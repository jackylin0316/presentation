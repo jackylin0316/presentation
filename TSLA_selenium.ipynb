{
 "cells": [
  {
   "cell_type": "code",
   "execution_count": 1,
   "id": "fe52553a",
   "metadata": {},
   "outputs": [],
   "source": [
    "from selenium import webdriver\n",
    "import pandas as pd"
   ]
  },
  {
   "cell_type": "code",
   "execution_count": 2,
   "id": "e5ddc20f",
   "metadata": {},
   "outputs": [],
   "source": [
    "driver=webdriver.Chrome()"
   ]
  },
  {
   "cell_type": "code",
   "execution_count": 3,
   "id": "991dccc1",
   "metadata": {},
   "outputs": [],
   "source": [
    "driver.get('https://finance.yahoo.com/')"
   ]
  },
  {
   "cell_type": "code",
   "execution_count": 4,
   "id": "12a41028",
   "metadata": {},
   "outputs": [],
   "source": [
    "import time;\n",
    "time.sleep(2)\n",
    "driver.find_element_by_xpath(\"//input[@aria-label='Search for news, symbols or companies']\").send_keys('TSLA')\n",
    "time.sleep(2)\n",
    "driver.find_element_by_xpath(\"//button[@id='header-desktop-search-button']\").click()\n",
    "time.sleep(2)\n",
    "driver.find_element_by_xpath(\"//span[text()='Historical Data']\").click()\n",
    "time.sleep(2)\n",
    "driver.find_element_by_xpath(\"//span[text()='Jan 29, 2021 - Jan 29, 2022']\").click()\n",
    "time.sleep(2)\n",
    "driver.find_element_by_xpath(\"//span[text()='Max']\").click()\n",
    "time.sleep(2)\n",
    "driver.find_element_by_xpath(\"//span[text()='Apply']\").click()\n",
    "time.sleep(2)\n",
    "\n",
    "\n",
    "\n",
    "\n"
   ]
  },
  {
   "cell_type": "code",
   "execution_count": 5,
   "id": "12615e9b",
   "metadata": {},
   "outputs": [],
   "source": [
    "SCROLL_PAUSE_TIME = 0.5\n",
    "last_height = driver.execute_script(\"return document.body.scrollHeight\")\n",
    "while True:\n",
    "    # Scroll down to bottom\n",
    "    driver.execute_script(\"window.scrollTo(0, document.body.scrollHeight);\")\n",
    "\n",
    "    # Wait to load page\n",
    "    time.sleep(SCROLL_PAUSE_TIME)\n",
    "\n",
    "    # Calculate new scroll height and compare with last scroll height\n",
    "    new_height = driver.execute_script(\"return document.body.scrollHeight\")\n",
    "    if new_height == last_height:\n",
    "        break\n",
    "    last_height = new_height\n",
    "\n",
    "\n"
   ]
  },
  {
   "cell_type": "code",
   "execution_count": 6,
   "id": "ef117202",
   "metadata": {},
   "outputs": [
    {
     "data": {
      "text/plain": [
       "['Date', 'Open', 'High', 'Low', 'Close*', 'Adj Close**', 'Volume']"
      ]
     },
     "execution_count": 6,
     "metadata": {},
     "output_type": "execute_result"
    }
   ],
   "source": [
    "element = driver.find_element_by_xpath(\"//span[text()='*Close price adjusted for splits.']\");\n",
    "driver.execute_script(\"arguments[0].scrollIntoView(true);\", element);\n",
    "time.sleep(2); \n",
    "\n",
    "    \n",
    "from bs4 import BeautifulSoup\n",
    "soup=BeautifulSoup(driver.page_source)\n",
    "table=soup.find('table', class_='W(100%) M(0)')\n",
    "headers=[]\n",
    "for th in table.find('thead').find_all('th'):\n",
    "    headers.append(th.text)\n",
    "headers"
   ]
  },
  {
   "cell_type": "code",
   "execution_count": 7,
   "id": "a3ac7e21",
   "metadata": {},
   "outputs": [
    {
     "data": {
      "text/html": [
       "<div>\n",
       "<style scoped>\n",
       "    .dataframe tbody tr th:only-of-type {\n",
       "        vertical-align: middle;\n",
       "    }\n",
       "\n",
       "    .dataframe tbody tr th {\n",
       "        vertical-align: top;\n",
       "    }\n",
       "\n",
       "    .dataframe thead th {\n",
       "        text-align: right;\n",
       "    }\n",
       "</style>\n",
       "<table border=\"1\" class=\"dataframe\">\n",
       "  <thead>\n",
       "    <tr style=\"text-align: right;\">\n",
       "      <th></th>\n",
       "      <th>Date</th>\n",
       "      <th>Open</th>\n",
       "      <th>High</th>\n",
       "      <th>Low</th>\n",
       "      <th>Close*</th>\n",
       "      <th>Adj Close**</th>\n",
       "      <th>Volume</th>\n",
       "    </tr>\n",
       "  </thead>\n",
       "  <tbody>\n",
       "  </tbody>\n",
       "</table>\n",
       "</div>"
      ],
      "text/plain": [
       "Empty DataFrame\n",
       "Columns: [Date, Open, High, Low, Close*, Adj Close**, Volume]\n",
       "Index: []"
      ]
     },
     "execution_count": 7,
     "metadata": {},
     "output_type": "execute_result"
    }
   ],
   "source": [
    "df=pd.DataFrame(columns=headers)\n",
    "df"
   ]
  },
  {
   "cell_type": "code",
   "execution_count": 8,
   "id": "d3d144b6",
   "metadata": {},
   "outputs": [
    {
     "data": {
      "text/html": [
       "<div>\n",
       "<style scoped>\n",
       "    .dataframe tbody tr th:only-of-type {\n",
       "        vertical-align: middle;\n",
       "    }\n",
       "\n",
       "    .dataframe tbody tr th {\n",
       "        vertical-align: top;\n",
       "    }\n",
       "\n",
       "    .dataframe thead th {\n",
       "        text-align: right;\n",
       "    }\n",
       "</style>\n",
       "<table border=\"1\" class=\"dataframe\">\n",
       "  <thead>\n",
       "    <tr style=\"text-align: right;\">\n",
       "      <th></th>\n",
       "      <th>Date</th>\n",
       "      <th>Open</th>\n",
       "      <th>High</th>\n",
       "      <th>Low</th>\n",
       "      <th>Close*</th>\n",
       "      <th>Adj Close**</th>\n",
       "      <th>Volume</th>\n",
       "    </tr>\n",
       "  </thead>\n",
       "  <tbody>\n",
       "    <tr>\n",
       "      <th>0</th>\n",
       "      <td>Jan 28, 2022</td>\n",
       "      <td>831.56</td>\n",
       "      <td>857.50</td>\n",
       "      <td>792.01</td>\n",
       "      <td>846.35</td>\n",
       "      <td>846.35</td>\n",
       "      <td>44,340,957</td>\n",
       "    </tr>\n",
       "    <tr>\n",
       "      <th>1</th>\n",
       "      <td>Jan 27, 2022</td>\n",
       "      <td>933.36</td>\n",
       "      <td>935.39</td>\n",
       "      <td>829.00</td>\n",
       "      <td>829.10</td>\n",
       "      <td>829.10</td>\n",
       "      <td>48,475,400</td>\n",
       "    </tr>\n",
       "    <tr>\n",
       "      <th>2</th>\n",
       "      <td>Jan 26, 2022</td>\n",
       "      <td>952.43</td>\n",
       "      <td>987.69</td>\n",
       "      <td>906.00</td>\n",
       "      <td>937.41</td>\n",
       "      <td>937.41</td>\n",
       "      <td>33,425,700</td>\n",
       "    </tr>\n",
       "    <tr>\n",
       "      <th>3</th>\n",
       "      <td>Jan 25, 2022</td>\n",
       "      <td>914.20</td>\n",
       "      <td>951.26</td>\n",
       "      <td>903.21</td>\n",
       "      <td>918.40</td>\n",
       "      <td>918.40</td>\n",
       "      <td>28,865,300</td>\n",
       "    </tr>\n",
       "    <tr>\n",
       "      <th>4</th>\n",
       "      <td>Jan 24, 2022</td>\n",
       "      <td>904.76</td>\n",
       "      <td>933.51</td>\n",
       "      <td>851.47</td>\n",
       "      <td>930.00</td>\n",
       "      <td>930.00</td>\n",
       "      <td>50,791,700</td>\n",
       "    </tr>\n",
       "    <tr>\n",
       "      <th>...</th>\n",
       "      <td>...</td>\n",
       "      <td>...</td>\n",
       "      <td>...</td>\n",
       "      <td>...</td>\n",
       "      <td>...</td>\n",
       "      <td>...</td>\n",
       "      <td>...</td>\n",
       "    </tr>\n",
       "    <tr>\n",
       "      <th>95</th>\n",
       "      <td>Sep 14, 2021</td>\n",
       "      <td>742.57</td>\n",
       "      <td>754.47</td>\n",
       "      <td>736.40</td>\n",
       "      <td>744.49</td>\n",
       "      <td>744.49</td>\n",
       "      <td>18,524,900</td>\n",
       "    </tr>\n",
       "    <tr>\n",
       "      <th>96</th>\n",
       "      <td>Sep 13, 2021</td>\n",
       "      <td>740.21</td>\n",
       "      <td>744.78</td>\n",
       "      <td>708.85</td>\n",
       "      <td>743.00</td>\n",
       "      <td>743.00</td>\n",
       "      <td>22,952,500</td>\n",
       "    </tr>\n",
       "    <tr>\n",
       "      <th>97</th>\n",
       "      <td>Sep 10, 2021</td>\n",
       "      <td>759.60</td>\n",
       "      <td>762.61</td>\n",
       "      <td>734.52</td>\n",
       "      <td>736.27</td>\n",
       "      <td>736.27</td>\n",
       "      <td>15,114,300</td>\n",
       "    </tr>\n",
       "    <tr>\n",
       "      <th>98</th>\n",
       "      <td>Sep 09, 2021</td>\n",
       "      <td>753.41</td>\n",
       "      <td>762.10</td>\n",
       "      <td>751.63</td>\n",
       "      <td>754.86</td>\n",
       "      <td>754.86</td>\n",
       "      <td>14,077,700</td>\n",
       "    </tr>\n",
       "    <tr>\n",
       "      <th>99</th>\n",
       "      <td>Sep 08, 2021</td>\n",
       "      <td>761.58</td>\n",
       "      <td>764.45</td>\n",
       "      <td>740.77</td>\n",
       "      <td>753.87</td>\n",
       "      <td>753.87</td>\n",
       "      <td>18,793,000</td>\n",
       "    </tr>\n",
       "  </tbody>\n",
       "</table>\n",
       "<p>100 rows × 7 columns</p>\n",
       "</div>"
      ],
      "text/plain": [
       "            Date    Open    High     Low  Close* Adj Close**      Volume\n",
       "0   Jan 28, 2022  831.56  857.50  792.01  846.35      846.35  44,340,957\n",
       "1   Jan 27, 2022  933.36  935.39  829.00  829.10      829.10  48,475,400\n",
       "2   Jan 26, 2022  952.43  987.69  906.00  937.41      937.41  33,425,700\n",
       "3   Jan 25, 2022  914.20  951.26  903.21  918.40      918.40  28,865,300\n",
       "4   Jan 24, 2022  904.76  933.51  851.47  930.00      930.00  50,791,700\n",
       "..           ...     ...     ...     ...     ...         ...         ...\n",
       "95  Sep 14, 2021  742.57  754.47  736.40  744.49      744.49  18,524,900\n",
       "96  Sep 13, 2021  740.21  744.78  708.85  743.00      743.00  22,952,500\n",
       "97  Sep 10, 2021  759.60  762.61  734.52  736.27      736.27  15,114,300\n",
       "98  Sep 09, 2021  753.41  762.10  751.63  754.86      754.86  14,077,700\n",
       "99  Sep 08, 2021  761.58  764.45  740.77  753.87      753.87  18,793,000\n",
       "\n",
       "[100 rows x 7 columns]"
      ]
     },
     "execution_count": 8,
     "metadata": {},
     "output_type": "execute_result"
    }
   ],
   "source": [
    "for row in table.find('tbody').find_all('tr'):\n",
    "    col=row.find_all('td')\n",
    "    temp=[]\n",
    "    for x in col:\n",
    "        temp.append(x.text)\n",
    "    df.loc[len(df)]=temp\n",
    "df"
   ]
  },
  {
   "cell_type": "code",
   "execution_count": 9,
   "id": "68687bfe",
   "metadata": {},
   "outputs": [
    {
     "data": {
      "text/html": [
       "<div>\n",
       "<style scoped>\n",
       "    .dataframe tbody tr th:only-of-type {\n",
       "        vertical-align: middle;\n",
       "    }\n",
       "\n",
       "    .dataframe tbody tr th {\n",
       "        vertical-align: top;\n",
       "    }\n",
       "\n",
       "    .dataframe thead th {\n",
       "        text-align: right;\n",
       "    }\n",
       "</style>\n",
       "<table border=\"1\" class=\"dataframe\">\n",
       "  <thead>\n",
       "    <tr style=\"text-align: right;\">\n",
       "      <th></th>\n",
       "      <th>Date</th>\n",
       "      <th>Open</th>\n",
       "      <th>High</th>\n",
       "      <th>Low</th>\n",
       "      <th>Close*</th>\n",
       "      <th>Adj Close**</th>\n",
       "      <th>Volume</th>\n",
       "    </tr>\n",
       "  </thead>\n",
       "  <tbody>\n",
       "    <tr>\n",
       "      <th>99</th>\n",
       "      <td>Sep 08, 2021</td>\n",
       "      <td>761.58</td>\n",
       "      <td>764.45</td>\n",
       "      <td>740.77</td>\n",
       "      <td>753.87</td>\n",
       "      <td>753.87</td>\n",
       "      <td>18,793,000</td>\n",
       "    </tr>\n",
       "    <tr>\n",
       "      <th>98</th>\n",
       "      <td>Sep 09, 2021</td>\n",
       "      <td>753.41</td>\n",
       "      <td>762.10</td>\n",
       "      <td>751.63</td>\n",
       "      <td>754.86</td>\n",
       "      <td>754.86</td>\n",
       "      <td>14,077,700</td>\n",
       "    </tr>\n",
       "    <tr>\n",
       "      <th>97</th>\n",
       "      <td>Sep 10, 2021</td>\n",
       "      <td>759.60</td>\n",
       "      <td>762.61</td>\n",
       "      <td>734.52</td>\n",
       "      <td>736.27</td>\n",
       "      <td>736.27</td>\n",
       "      <td>15,114,300</td>\n",
       "    </tr>\n",
       "    <tr>\n",
       "      <th>96</th>\n",
       "      <td>Sep 13, 2021</td>\n",
       "      <td>740.21</td>\n",
       "      <td>744.78</td>\n",
       "      <td>708.85</td>\n",
       "      <td>743.00</td>\n",
       "      <td>743.00</td>\n",
       "      <td>22,952,500</td>\n",
       "    </tr>\n",
       "    <tr>\n",
       "      <th>95</th>\n",
       "      <td>Sep 14, 2021</td>\n",
       "      <td>742.57</td>\n",
       "      <td>754.47</td>\n",
       "      <td>736.40</td>\n",
       "      <td>744.49</td>\n",
       "      <td>744.49</td>\n",
       "      <td>18,524,900</td>\n",
       "    </tr>\n",
       "    <tr>\n",
       "      <th>...</th>\n",
       "      <td>...</td>\n",
       "      <td>...</td>\n",
       "      <td>...</td>\n",
       "      <td>...</td>\n",
       "      <td>...</td>\n",
       "      <td>...</td>\n",
       "      <td>...</td>\n",
       "    </tr>\n",
       "    <tr>\n",
       "      <th>4</th>\n",
       "      <td>Jan 24, 2022</td>\n",
       "      <td>904.76</td>\n",
       "      <td>933.51</td>\n",
       "      <td>851.47</td>\n",
       "      <td>930.00</td>\n",
       "      <td>930.00</td>\n",
       "      <td>50,791,700</td>\n",
       "    </tr>\n",
       "    <tr>\n",
       "      <th>3</th>\n",
       "      <td>Jan 25, 2022</td>\n",
       "      <td>914.20</td>\n",
       "      <td>951.26</td>\n",
       "      <td>903.21</td>\n",
       "      <td>918.40</td>\n",
       "      <td>918.40</td>\n",
       "      <td>28,865,300</td>\n",
       "    </tr>\n",
       "    <tr>\n",
       "      <th>2</th>\n",
       "      <td>Jan 26, 2022</td>\n",
       "      <td>952.43</td>\n",
       "      <td>987.69</td>\n",
       "      <td>906.00</td>\n",
       "      <td>937.41</td>\n",
       "      <td>937.41</td>\n",
       "      <td>33,425,700</td>\n",
       "    </tr>\n",
       "    <tr>\n",
       "      <th>1</th>\n",
       "      <td>Jan 27, 2022</td>\n",
       "      <td>933.36</td>\n",
       "      <td>935.39</td>\n",
       "      <td>829.00</td>\n",
       "      <td>829.10</td>\n",
       "      <td>829.10</td>\n",
       "      <td>48,475,400</td>\n",
       "    </tr>\n",
       "    <tr>\n",
       "      <th>0</th>\n",
       "      <td>Jan 28, 2022</td>\n",
       "      <td>831.56</td>\n",
       "      <td>857.50</td>\n",
       "      <td>792.01</td>\n",
       "      <td>846.35</td>\n",
       "      <td>846.35</td>\n",
       "      <td>44,340,957</td>\n",
       "    </tr>\n",
       "  </tbody>\n",
       "</table>\n",
       "<p>100 rows × 7 columns</p>\n",
       "</div>"
      ],
      "text/plain": [
       "            Date    Open    High     Low  Close* Adj Close**      Volume\n",
       "99  Sep 08, 2021  761.58  764.45  740.77  753.87      753.87  18,793,000\n",
       "98  Sep 09, 2021  753.41  762.10  751.63  754.86      754.86  14,077,700\n",
       "97  Sep 10, 2021  759.60  762.61  734.52  736.27      736.27  15,114,300\n",
       "96  Sep 13, 2021  740.21  744.78  708.85  743.00      743.00  22,952,500\n",
       "95  Sep 14, 2021  742.57  754.47  736.40  744.49      744.49  18,524,900\n",
       "..           ...     ...     ...     ...     ...         ...         ...\n",
       "4   Jan 24, 2022  904.76  933.51  851.47  930.00      930.00  50,791,700\n",
       "3   Jan 25, 2022  914.20  951.26  903.21  918.40      918.40  28,865,300\n",
       "2   Jan 26, 2022  952.43  987.69  906.00  937.41      937.41  33,425,700\n",
       "1   Jan 27, 2022  933.36  935.39  829.00  829.10      829.10  48,475,400\n",
       "0   Jan 28, 2022  831.56  857.50  792.01  846.35      846.35  44,340,957\n",
       "\n",
       "[100 rows x 7 columns]"
      ]
     },
     "execution_count": 9,
     "metadata": {},
     "output_type": "execute_result"
    }
   ],
   "source": [
    "df=df[::-1]\n",
    "df"
   ]
  },
  {
   "cell_type": "code",
   "execution_count": 10,
   "id": "c6ac5725",
   "metadata": {},
   "outputs": [
    {
     "data": {
      "text/html": [
       "<div>\n",
       "<style scoped>\n",
       "    .dataframe tbody tr th:only-of-type {\n",
       "        vertical-align: middle;\n",
       "    }\n",
       "\n",
       "    .dataframe tbody tr th {\n",
       "        vertical-align: top;\n",
       "    }\n",
       "\n",
       "    .dataframe thead th {\n",
       "        text-align: right;\n",
       "    }\n",
       "</style>\n",
       "<table border=\"1\" class=\"dataframe\">\n",
       "  <thead>\n",
       "    <tr style=\"text-align: right;\">\n",
       "      <th></th>\n",
       "      <th>Date</th>\n",
       "      <th>Open</th>\n",
       "      <th>High</th>\n",
       "      <th>Low</th>\n",
       "      <th>Close*</th>\n",
       "      <th>Adj Close**</th>\n",
       "      <th>Volume</th>\n",
       "    </tr>\n",
       "  </thead>\n",
       "  <tbody>\n",
       "    <tr>\n",
       "      <th>0</th>\n",
       "      <td>Sep 08, 2021</td>\n",
       "      <td>761.58</td>\n",
       "      <td>764.45</td>\n",
       "      <td>740.77</td>\n",
       "      <td>753.87</td>\n",
       "      <td>753.87</td>\n",
       "      <td>18,793,000</td>\n",
       "    </tr>\n",
       "    <tr>\n",
       "      <th>1</th>\n",
       "      <td>Sep 09, 2021</td>\n",
       "      <td>753.41</td>\n",
       "      <td>762.10</td>\n",
       "      <td>751.63</td>\n",
       "      <td>754.86</td>\n",
       "      <td>754.86</td>\n",
       "      <td>14,077,700</td>\n",
       "    </tr>\n",
       "    <tr>\n",
       "      <th>2</th>\n",
       "      <td>Sep 10, 2021</td>\n",
       "      <td>759.60</td>\n",
       "      <td>762.61</td>\n",
       "      <td>734.52</td>\n",
       "      <td>736.27</td>\n",
       "      <td>736.27</td>\n",
       "      <td>15,114,300</td>\n",
       "    </tr>\n",
       "    <tr>\n",
       "      <th>3</th>\n",
       "      <td>Sep 13, 2021</td>\n",
       "      <td>740.21</td>\n",
       "      <td>744.78</td>\n",
       "      <td>708.85</td>\n",
       "      <td>743.00</td>\n",
       "      <td>743.00</td>\n",
       "      <td>22,952,500</td>\n",
       "    </tr>\n",
       "    <tr>\n",
       "      <th>4</th>\n",
       "      <td>Sep 14, 2021</td>\n",
       "      <td>742.57</td>\n",
       "      <td>754.47</td>\n",
       "      <td>736.40</td>\n",
       "      <td>744.49</td>\n",
       "      <td>744.49</td>\n",
       "      <td>18,524,900</td>\n",
       "    </tr>\n",
       "    <tr>\n",
       "      <th>...</th>\n",
       "      <td>...</td>\n",
       "      <td>...</td>\n",
       "      <td>...</td>\n",
       "      <td>...</td>\n",
       "      <td>...</td>\n",
       "      <td>...</td>\n",
       "      <td>...</td>\n",
       "    </tr>\n",
       "    <tr>\n",
       "      <th>95</th>\n",
       "      <td>Jan 24, 2022</td>\n",
       "      <td>904.76</td>\n",
       "      <td>933.51</td>\n",
       "      <td>851.47</td>\n",
       "      <td>930.00</td>\n",
       "      <td>930.00</td>\n",
       "      <td>50,791,700</td>\n",
       "    </tr>\n",
       "    <tr>\n",
       "      <th>96</th>\n",
       "      <td>Jan 25, 2022</td>\n",
       "      <td>914.20</td>\n",
       "      <td>951.26</td>\n",
       "      <td>903.21</td>\n",
       "      <td>918.40</td>\n",
       "      <td>918.40</td>\n",
       "      <td>28,865,300</td>\n",
       "    </tr>\n",
       "    <tr>\n",
       "      <th>97</th>\n",
       "      <td>Jan 26, 2022</td>\n",
       "      <td>952.43</td>\n",
       "      <td>987.69</td>\n",
       "      <td>906.00</td>\n",
       "      <td>937.41</td>\n",
       "      <td>937.41</td>\n",
       "      <td>33,425,700</td>\n",
       "    </tr>\n",
       "    <tr>\n",
       "      <th>98</th>\n",
       "      <td>Jan 27, 2022</td>\n",
       "      <td>933.36</td>\n",
       "      <td>935.39</td>\n",
       "      <td>829.00</td>\n",
       "      <td>829.10</td>\n",
       "      <td>829.10</td>\n",
       "      <td>48,475,400</td>\n",
       "    </tr>\n",
       "    <tr>\n",
       "      <th>99</th>\n",
       "      <td>Jan 28, 2022</td>\n",
       "      <td>831.56</td>\n",
       "      <td>857.50</td>\n",
       "      <td>792.01</td>\n",
       "      <td>846.35</td>\n",
       "      <td>846.35</td>\n",
       "      <td>44,340,957</td>\n",
       "    </tr>\n",
       "  </tbody>\n",
       "</table>\n",
       "<p>100 rows × 7 columns</p>\n",
       "</div>"
      ],
      "text/plain": [
       "            Date    Open    High     Low  Close* Adj Close**      Volume\n",
       "0   Sep 08, 2021  761.58  764.45  740.77  753.87      753.87  18,793,000\n",
       "1   Sep 09, 2021  753.41  762.10  751.63  754.86      754.86  14,077,700\n",
       "2   Sep 10, 2021  759.60  762.61  734.52  736.27      736.27  15,114,300\n",
       "3   Sep 13, 2021  740.21  744.78  708.85  743.00      743.00  22,952,500\n",
       "4   Sep 14, 2021  742.57  754.47  736.40  744.49      744.49  18,524,900\n",
       "..           ...     ...     ...     ...     ...         ...         ...\n",
       "95  Jan 24, 2022  904.76  933.51  851.47  930.00      930.00  50,791,700\n",
       "96  Jan 25, 2022  914.20  951.26  903.21  918.40      918.40  28,865,300\n",
       "97  Jan 26, 2022  952.43  987.69  906.00  937.41      937.41  33,425,700\n",
       "98  Jan 27, 2022  933.36  935.39  829.00  829.10      829.10  48,475,400\n",
       "99  Jan 28, 2022  831.56  857.50  792.01  846.35      846.35  44,340,957\n",
       "\n",
       "[100 rows x 7 columns]"
      ]
     },
     "execution_count": 10,
     "metadata": {},
     "output_type": "execute_result"
    }
   ],
   "source": [
    "df.reset_index(drop=True, inplace=True)\n",
    "df"
   ]
  },
  {
   "cell_type": "code",
   "execution_count": 11,
   "id": "b1015598",
   "metadata": {},
   "outputs": [
    {
     "name": "stdout",
     "output_type": "stream",
     "text": [
      "<class 'pandas.core.frame.DataFrame'>\n",
      "RangeIndex: 100 entries, 0 to 99\n",
      "Data columns (total 7 columns):\n",
      " #   Column       Non-Null Count  Dtype  \n",
      "---  ------       --------------  -----  \n",
      " 0   Date         100 non-null    object \n",
      " 1   Open         100 non-null    object \n",
      " 2   High         100 non-null    object \n",
      " 3   Low          100 non-null    object \n",
      " 4   Close*       100 non-null    float64\n",
      " 5   Adj Close**  100 non-null    object \n",
      " 6   Volume       100 non-null    object \n",
      "dtypes: float64(1), object(6)\n",
      "memory usage: 5.6+ KB\n"
     ]
    }
   ],
   "source": [
    "df['Close*']=df['Close*'].apply(lambda x: x.replace(',','')).apply(pd.to_numeric)\n",
    "df.info()"
   ]
  },
  {
   "cell_type": "code",
   "execution_count": 12,
   "id": "975facfe",
   "metadata": {},
   "outputs": [
    {
     "data": {
      "text/plain": [
       "numpy.ndarray"
      ]
     },
     "execution_count": 12,
     "metadata": {},
     "output_type": "execute_result"
    }
   ],
   "source": [
    "import numpy as np\n",
    "data=df[['Close*']]\n",
    "dataset=np.array(data)\n",
    "type(dataset)"
   ]
  },
  {
   "cell_type": "code",
   "execution_count": 13,
   "id": "ecafdb50",
   "metadata": {},
   "outputs": [
    {
     "name": "stdout",
     "output_type": "stream",
     "text": [
      "80\n"
     ]
    }
   ],
   "source": [
    "training_data_len=int(len(dataset)*0.8)\n",
    "print(training_data_len)"
   ]
  },
  {
   "cell_type": "code",
   "execution_count": 14,
   "id": "4a181763",
   "metadata": {
    "scrolled": true
   },
   "outputs": [
    {
     "name": "stderr",
     "output_type": "stream",
     "text": [
      "/Users/hayashishifuchi/opt/anaconda3/envs/deeplearning/lib/python3.7/site-packages/ipykernel_launcher.py:5: UserWarning: FixedFormatter should only be used together with FixedLocator\n",
      "  \"\"\"\n"
     ]
    },
    {
     "data": {
      "text/plain": [
       "<matplotlib.legend.Legend at 0x7f9d1d055e10>"
      ]
     },
     "execution_count": 14,
     "metadata": {},
     "output_type": "execute_result"
    },
    {
     "data": {
      "image/png": "[encoded data removed]",
      "text/plain": [
       "<Figure size 1152x1152 with 1 Axes>"
      ]
     },
     "metadata": {
      "needs_background": "light"
     },
     "output_type": "display_data"
    }
   ],
   "source": [
    "import matplotlib.pyplot as plt\n",
    "fig, axs=plt.subplots(1, figsize=(16,16))\n",
    "axs.plot(df['Date'], df['Close*'], marker=\"*\", color='#C6A300', label='close price')\n",
    "axs.set_title('TSLA', loc='center', fontsize=16)\n",
    "axs.set_xticklabels(df['Date'], fontsize=12, rotation=90)\n",
    "# axs.set_yticks(fontsize=12)\n",
    "plt.ylim([min(df['Close*']), max(df['Close*'])])\n",
    "plt.legend(loc='upper left')"
   ]
  },
  {
   "cell_type": "code",
   "execution_count": 15,
   "id": "d38d10d8",
   "metadata": {},
   "outputs": [
    {
     "data": {
      "text/plain": [
       "array([[0.04742466],\n",
       "       [0.04940569],\n",
       "       [0.01220635],\n",
       "       [0.02567335],\n",
       "       [0.0286549 ],\n",
       "       [0.0513467 ],\n",
       "       [0.05366791],\n",
       "       [0.05867051],\n",
       "       [0.        ],\n",
       "       [0.01842958],\n",
       "       [0.04356265],\n",
       "       [0.04696442],\n",
       "       [0.08848601],\n",
       "       [0.12244367],\n",
       "       [0.09482931],\n",
       "       [0.10233321],\n",
       "       [0.09066715],\n",
       "       [0.09014688],\n",
       "       [0.10277344],\n",
       "       [0.10089246],\n",
       "       [0.10521471],\n",
       "       [0.12694601],\n",
       "       [0.11069756],\n",
       "       [0.12360427],\n",
       "       [0.15117861],\n",
       "       [0.16190419],\n",
       "       [0.17639172],\n",
       "       [0.22583744],\n",
       "       [0.28002561],\n",
       "       [0.26833954],\n",
       "       [0.27140113],\n",
       "       [0.32783047],\n",
       "       [0.35920679],\n",
       "       [0.58968664],\n",
       "       [0.57681995],\n",
       "       [0.61570016],\n",
       "       [0.69410093],\n",
       "       [0.76805939],\n",
       "       [0.95733782],\n",
       "       [0.88411974],\n",
       "       [0.9678833 ],\n",
       "       [1.        ],\n",
       "       [0.98435186],\n",
       "       [0.86599031],\n",
       "       [0.58696522],\n",
       "       [0.67591147],\n",
       "       [0.66702685],\n",
       "       [0.60681554],\n",
       "       [0.5667347 ],\n",
       "       [0.64945772],\n",
       "       [0.71805339],\n",
       "       [0.73280106],\n",
       "       [0.81420339],\n",
       "       [0.853844  ],\n",
       "       [0.75811422],\n",
       "       [0.77206147],\n",
       "       [0.70386601],\n",
       "       [0.81406331],\n",
       "       [0.8296114 ],\n",
       "       [0.73003962],\n",
       "       [0.7092288 ],\n",
       "       [0.56989635],\n",
       "       [0.55797014],\n",
       "       [0.64349462],\n",
       "       [0.67793252],\n",
       "       [0.54754472],\n",
       "       [0.57401849],\n",
       "       [0.47272582],\n",
       "       [0.4569176 ],\n",
       "       [0.49189579],\n",
       "       [0.39370473],\n",
       "       [0.40501061],\n",
       "       [0.33971665],\n",
       "       [0.41693681],\n",
       "       [0.55769   ],\n",
       "       [0.67401049],\n",
       "       [0.72791852],\n",
       "       [0.71697283],\n",
       "       [0.71241045],\n",
       "       [0.68069396],\n",
       "       [0.65355985],\n",
       "       [0.93970865],\n",
       "       [0.83927642],\n",
       "       [0.71627246],\n",
       "       [0.66940809],\n",
       "       [0.59388882],\n",
       "       [0.65624125],\n",
       "       [0.66880778],\n",
       "       [0.7524913 ],\n",
       "       [0.60309361],\n",
       "       [0.63921239],\n",
       "       [0.60099252],\n",
       "       [0.53123624],\n",
       "       [0.53247689],\n",
       "       [0.42768239],\n",
       "       [0.39986793],\n",
       "       [0.37665586],\n",
       "       [0.41469564],\n",
       "       [0.19796294],\n",
       "       [0.23248089]])"
      ]
     },
     "execution_count": 15,
     "metadata": {},
     "output_type": "execute_result"
    }
   ],
   "source": [
    "from sklearn.preprocessing import MinMaxScaler\n",
    "scaler=MinMaxScaler(feature_range=(0,1))\n",
    "scaled_data=scaler.fit_transform(dataset)\n",
    "scaled_data"
   ]
  },
  {
   "cell_type": "code",
   "execution_count": 16,
   "id": "b6a6f8ff",
   "metadata": {},
   "outputs": [
    {
     "data": {
      "text/plain": [
       "numpy.ndarray"
      ]
     },
     "execution_count": 16,
     "metadata": {},
     "output_type": "execute_result"
    }
   ],
   "source": [
    "type(scaled_data)\n",
    "# train_data=scaled_data[0:training_data_len, :]"
   ]
  },
  {
   "cell_type": "code",
   "execution_count": 17,
   "id": "d5924bdf",
   "metadata": {},
   "outputs": [],
   "source": [
    "train_data=scaled_data[0:training_data_len, :]\n",
    "x_train=[]\n",
    "y_train=[]\n",
    "\n",
    "for i in range(10, len(train_data)):\n",
    "    x_train.append(train_data[i-10:i, 0])\n",
    "    y_train.append(train_data[i, 0])\n",
    "\n",
    "import numpy as np    \n",
    "x_train=np.array(x_train)\n",
    "y_train=np.array(y_train)\n"
   ]
  },
  {
   "cell_type": "code",
   "execution_count": 18,
   "id": "fdb942df",
   "metadata": {},
   "outputs": [
    {
     "name": "stdout",
     "output_type": "stream",
     "text": [
      "[[0.04742466 0.04940569 0.01220635 0.02567335 0.0286549  0.0513467\n",
      "  0.05366791 0.05867051 0.         0.01842958]\n",
      " [0.04940569 0.01220635 0.02567335 0.0286549  0.0513467  0.05366791\n",
      "  0.05867051 0.         0.01842958 0.04356265]\n",
      " [0.01220635 0.02567335 0.0286549  0.0513467  0.05366791 0.05867051\n",
      "  0.         0.01842958 0.04356265 0.04696442]\n",
      " [0.02567335 0.0286549  0.0513467  0.05366791 0.05867051 0.\n",
      "  0.01842958 0.04356265 0.04696442 0.08848601]\n",
      " [0.0286549  0.0513467  0.05366791 0.05867051 0.         0.01842958\n",
      "  0.04356265 0.04696442 0.08848601 0.12244367]\n",
      " [0.0513467  0.05366791 0.05867051 0.         0.01842958 0.04356265\n",
      "  0.04696442 0.08848601 0.12244367 0.09482931]\n",
      " [0.05366791 0.05867051 0.         0.01842958 0.04356265 0.04696442\n",
      "  0.08848601 0.12244367 0.09482931 0.10233321]\n",
      " [0.05867051 0.         0.01842958 0.04356265 0.04696442 0.08848601\n",
      "  0.12244367 0.09482931 0.10233321 0.09066715]\n",
      " [0.         0.01842958 0.04356265 0.04696442 0.08848601 0.12244367\n",
      "  0.09482931 0.10233321 0.09066715 0.09014688]\n",
      " [0.01842958 0.04356265 0.04696442 0.08848601 0.12244367 0.09482931\n",
      "  0.10233321 0.09066715 0.09014688 0.10277344]\n",
      " [0.04356265 0.04696442 0.08848601 0.12244367 0.09482931 0.10233321\n",
      "  0.09066715 0.09014688 0.10277344 0.10089246]\n",
      " [0.04696442 0.08848601 0.12244367 0.09482931 0.10233321 0.09066715\n",
      "  0.09014688 0.10277344 0.10089246 0.10521471]\n",
      " [0.08848601 0.12244367 0.09482931 0.10233321 0.09066715 0.09014688\n",
      "  0.10277344 0.10089246 0.10521471 0.12694601]\n",
      " [0.12244367 0.09482931 0.10233321 0.09066715 0.09014688 0.10277344\n",
      "  0.10089246 0.10521471 0.12694601 0.11069756]\n",
      " [0.09482931 0.10233321 0.09066715 0.09014688 0.10277344 0.10089246\n",
      "  0.10521471 0.12694601 0.11069756 0.12360427]\n",
      " [0.10233321 0.09066715 0.09014688 0.10277344 0.10089246 0.10521471\n",
      "  0.12694601 0.11069756 0.12360427 0.15117861]\n",
      " [0.09066715 0.09014688 0.10277344 0.10089246 0.10521471 0.12694601\n",
      "  0.11069756 0.12360427 0.15117861 0.16190419]\n",
      " [0.09014688 0.10277344 0.10089246 0.10521471 0.12694601 0.11069756\n",
      "  0.12360427 0.15117861 0.16190419 0.17639172]\n",
      " [0.10277344 0.10089246 0.10521471 0.12694601 0.11069756 0.12360427\n",
      "  0.15117861 0.16190419 0.17639172 0.22583744]\n",
      " [0.10089246 0.10521471 0.12694601 0.11069756 0.12360427 0.15117861\n",
      "  0.16190419 0.17639172 0.22583744 0.28002561]\n",
      " [0.10521471 0.12694601 0.11069756 0.12360427 0.15117861 0.16190419\n",
      "  0.17639172 0.22583744 0.28002561 0.26833954]\n",
      " [0.12694601 0.11069756 0.12360427 0.15117861 0.16190419 0.17639172\n",
      "  0.22583744 0.28002561 0.26833954 0.27140113]\n",
      " [0.11069756 0.12360427 0.15117861 0.16190419 0.17639172 0.22583744\n",
      "  0.28002561 0.26833954 0.27140113 0.32783047]\n",
      " [0.12360427 0.15117861 0.16190419 0.17639172 0.22583744 0.28002561\n",
      "  0.26833954 0.27140113 0.32783047 0.35920679]\n",
      " [0.15117861 0.16190419 0.17639172 0.22583744 0.28002561 0.26833954\n",
      "  0.27140113 0.32783047 0.35920679 0.58968664]\n",
      " [0.16190419 0.17639172 0.22583744 0.28002561 0.26833954 0.27140113\n",
      "  0.32783047 0.35920679 0.58968664 0.57681995]\n",
      " [0.17639172 0.22583744 0.28002561 0.26833954 0.27140113 0.32783047\n",
      "  0.35920679 0.58968664 0.57681995 0.61570016]\n",
      " [0.22583744 0.28002561 0.26833954 0.27140113 0.32783047 0.35920679\n",
      "  0.58968664 0.57681995 0.61570016 0.69410093]\n",
      " [0.28002561 0.26833954 0.27140113 0.32783047 0.35920679 0.58968664\n",
      "  0.57681995 0.61570016 0.69410093 0.76805939]\n",
      " [0.26833954 0.27140113 0.32783047 0.35920679 0.58968664 0.57681995\n",
      "  0.61570016 0.69410093 0.76805939 0.95733782]\n",
      " [0.27140113 0.32783047 0.35920679 0.58968664 0.57681995 0.61570016\n",
      "  0.69410093 0.76805939 0.95733782 0.88411974]\n",
      " [0.32783047 0.35920679 0.58968664 0.57681995 0.61570016 0.69410093\n",
      "  0.76805939 0.95733782 0.88411974 0.9678833 ]\n",
      " [0.35920679 0.58968664 0.57681995 0.61570016 0.69410093 0.76805939\n",
      "  0.95733782 0.88411974 0.9678833  1.        ]\n",
      " [0.58968664 0.57681995 0.61570016 0.69410093 0.76805939 0.95733782\n",
      "  0.88411974 0.9678833  1.         0.98435186]\n",
      " [0.57681995 0.61570016 0.69410093 0.76805939 0.95733782 0.88411974\n",
      "  0.9678833  1.         0.98435186 0.86599031]\n",
      " [0.61570016 0.69410093 0.76805939 0.95733782 0.88411974 0.9678833\n",
      "  1.         0.98435186 0.86599031 0.58696522]\n",
      " [0.69410093 0.76805939 0.95733782 0.88411974 0.9678833  1.\n",
      "  0.98435186 0.86599031 0.58696522 0.67591147]\n",
      " [0.76805939 0.95733782 0.88411974 0.9678833  1.         0.98435186\n",
      "  0.86599031 0.58696522 0.67591147 0.66702685]\n",
      " [0.95733782 0.88411974 0.9678833  1.         0.98435186 0.86599031\n",
      "  0.58696522 0.67591147 0.66702685 0.60681554]\n",
      " [0.88411974 0.9678833  1.         0.98435186 0.86599031 0.58696522\n",
      "  0.67591147 0.66702685 0.60681554 0.5667347 ]\n",
      " [0.9678833  1.         0.98435186 0.86599031 0.58696522 0.67591147\n",
      "  0.66702685 0.60681554 0.5667347  0.64945772]\n",
      " [1.         0.98435186 0.86599031 0.58696522 0.67591147 0.66702685\n",
      "  0.60681554 0.5667347  0.64945772 0.71805339]\n",
      " [0.98435186 0.86599031 0.58696522 0.67591147 0.66702685 0.60681554\n",
      "  0.5667347  0.64945772 0.71805339 0.73280106]\n",
      " [0.86599031 0.58696522 0.67591147 0.66702685 0.60681554 0.5667347\n",
      "  0.64945772 0.71805339 0.73280106 0.81420339]\n",
      " [0.58696522 0.67591147 0.66702685 0.60681554 0.5667347  0.64945772\n",
      "  0.71805339 0.73280106 0.81420339 0.853844  ]\n",
      " [0.67591147 0.66702685 0.60681554 0.5667347  0.64945772 0.71805339\n",
      "  0.73280106 0.81420339 0.853844   0.75811422]\n",
      " [0.66702685 0.60681554 0.5667347  0.64945772 0.71805339 0.73280106\n",
      "  0.81420339 0.853844   0.75811422 0.77206147]\n",
      " [0.60681554 0.5667347  0.64945772 0.71805339 0.73280106 0.81420339\n",
      "  0.853844   0.75811422 0.77206147 0.70386601]\n",
      " [0.5667347  0.64945772 0.71805339 0.73280106 0.81420339 0.853844\n",
      "  0.75811422 0.77206147 0.70386601 0.81406331]\n",
      " [0.64945772 0.71805339 0.73280106 0.81420339 0.853844   0.75811422\n",
      "  0.77206147 0.70386601 0.81406331 0.8296114 ]\n",
      " [0.71805339 0.73280106 0.81420339 0.853844   0.75811422 0.77206147\n",
      "  0.70386601 0.81406331 0.8296114  0.73003962]\n",
      " [0.73280106 0.81420339 0.853844   0.75811422 0.77206147 0.70386601\n",
      "  0.81406331 0.8296114  0.73003962 0.7092288 ]\n",
      " [0.81420339 0.853844   0.75811422 0.77206147 0.70386601 0.81406331\n",
      "  0.8296114  0.73003962 0.7092288  0.56989635]\n",
      " [0.853844   0.75811422 0.77206147 0.70386601 0.81406331 0.8296114\n",
      "  0.73003962 0.7092288  0.56989635 0.55797014]\n",
      " [0.75811422 0.77206147 0.70386601 0.81406331 0.8296114  0.73003962\n",
      "  0.7092288  0.56989635 0.55797014 0.64349462]\n",
      " [0.77206147 0.70386601 0.81406331 0.8296114  0.73003962 0.7092288\n",
      "  0.56989635 0.55797014 0.64349462 0.67793252]\n",
      " [0.70386601 0.81406331 0.8296114  0.73003962 0.7092288  0.56989635\n",
      "  0.55797014 0.64349462 0.67793252 0.54754472]\n",
      " [0.81406331 0.8296114  0.73003962 0.7092288  0.56989635 0.55797014\n",
      "  0.64349462 0.67793252 0.54754472 0.57401849]\n",
      " [0.8296114  0.73003962 0.7092288  0.56989635 0.55797014 0.64349462\n",
      "  0.67793252 0.54754472 0.57401849 0.47272582]\n",
      " [0.73003962 0.7092288  0.56989635 0.55797014 0.64349462 0.67793252\n",
      "  0.54754472 0.57401849 0.47272582 0.4569176 ]\n",
      " [0.7092288  0.56989635 0.55797014 0.64349462 0.67793252 0.54754472\n",
      "  0.57401849 0.47272582 0.4569176  0.49189579]\n",
      " [0.56989635 0.55797014 0.64349462 0.67793252 0.54754472 0.57401849\n",
      "  0.47272582 0.4569176  0.49189579 0.39370473]\n",
      " [0.55797014 0.64349462 0.67793252 0.54754472 0.57401849 0.47272582\n",
      "  0.4569176  0.49189579 0.39370473 0.40501061]\n",
      " [0.64349462 0.67793252 0.54754472 0.57401849 0.47272582 0.4569176\n",
      "  0.49189579 0.39370473 0.40501061 0.33971665]\n",
      " [0.67793252 0.54754472 0.57401849 0.47272582 0.4569176  0.49189579\n",
      "  0.39370473 0.40501061 0.33971665 0.41693681]\n",
      " [0.54754472 0.57401849 0.47272582 0.4569176  0.49189579 0.39370473\n",
      "  0.40501061 0.33971665 0.41693681 0.55769   ]\n",
      " [0.57401849 0.47272582 0.4569176  0.49189579 0.39370473 0.40501061\n",
      "  0.33971665 0.41693681 0.55769    0.67401049]\n",
      " [0.47272582 0.4569176  0.49189579 0.39370473 0.40501061 0.33971665\n",
      "  0.41693681 0.55769    0.67401049 0.72791852]\n",
      " [0.4569176  0.49189579 0.39370473 0.40501061 0.33971665 0.41693681\n",
      "  0.55769    0.67401049 0.72791852 0.71697283]\n",
      " [0.49189579 0.39370473 0.40501061 0.33971665 0.41693681 0.55769\n",
      "  0.67401049 0.72791852 0.71697283 0.71241045]]\n"
     ]
    }
   ],
   "source": [
    "print(x_train)"
   ]
  },
  {
   "cell_type": "code",
   "execution_count": 19,
   "id": "023c7b2b",
   "metadata": {},
   "outputs": [
    {
     "data": {
      "text/plain": [
       "(70, 10)"
      ]
     },
     "execution_count": 19,
     "metadata": {},
     "output_type": "execute_result"
    }
   ],
   "source": [
    "x_train.shape"
   ]
  },
  {
   "cell_type": "code",
   "execution_count": 20,
   "id": "55161d1c",
   "metadata": {},
   "outputs": [
    {
     "data": {
      "text/plain": [
       "(70,)"
      ]
     },
     "execution_count": 20,
     "metadata": {},
     "output_type": "execute_result"
    }
   ],
   "source": [
    "y_train.shape"
   ]
  },
  {
   "cell_type": "code",
   "execution_count": 21,
   "id": "8758e298",
   "metadata": {},
   "outputs": [
    {
     "data": {
      "text/plain": [
       "70"
      ]
     },
     "execution_count": 21,
     "metadata": {},
     "output_type": "execute_result"
    }
   ],
   "source": [
    "x_train.shape[0]\n"
   ]
  },
  {
   "cell_type": "code",
   "execution_count": 22,
   "id": "6af6eda6",
   "metadata": {},
   "outputs": [
    {
     "data": {
      "text/plain": [
       "10"
      ]
     },
     "execution_count": 22,
     "metadata": {},
     "output_type": "execute_result"
    }
   ],
   "source": [
    "x_train.shape[1]"
   ]
  },
  {
   "cell_type": "code",
   "execution_count": 23,
   "id": "e7b08fc6",
   "metadata": {},
   "outputs": [
    {
     "data": {
      "text/plain": [
       "(70, 10, 1)"
      ]
     },
     "execution_count": 23,
     "metadata": {},
     "output_type": "execute_result"
    }
   ],
   "source": [
    "#np\n",
    "x_train=np.reshape(x_train, (x_train.shape[0], x_train.shape[1], 1))\n",
    "x_train.shape\n",
    "# three dimensions (batch size, time step, input dimension)"
   ]
  },
  {
   "cell_type": "markdown",
   "id": "4c255cbe",
   "metadata": {},
   "source": [
    "## LSTM input \n",
    "\n",
    "LSTM Layer 所接受的輸入必須為「三個維度」( 3-dimiension)。\n",
    "\n",
    "第一個維度指的是 Batch Size，表示一個 Batch 中有多少個 Sample\n",
    "\n",
    "第二個維度為 Time Step，表示一個 Sample 中由多少時間單位組成\n",
    "\n",
    "第三個維度為 Input Dimension, 表示 Sample 中的每一個時間單位的向量維度"
   ]
  },
  {
   "cell_type": "markdown",
   "id": "3897ad0b",
   "metadata": {},
   "source": [
    "## why do we use numpy array\n",
    "because it is fast then simple array in python\n",
    "\n",
    "in machine learning we just process and cleans the data so we need a fast and simple way to do it\n",
    "\n",
    "numpy is very fast and easy ,because it is wrtiten in c language\n",
    "\n",
    "矩陣乘法快速"
   ]
  },
  {
   "cell_type": "code",
   "execution_count": 24,
   "id": "e25234f4",
   "metadata": {},
   "outputs": [],
   "source": [
    "import math\n",
    "from keras.models import Sequential\n",
    "from keras.layers import Dense, LSTM\n",
    "\n",
    "model=Sequential()\n",
    "model.add(LSTM(50, return_sequences=True, input_shape=(x_train.shape[1],1)))\n",
    "model.add(LSTM(50, return_sequences=False))\n",
    "model.add(Dense(35))\n",
    "model.add(Dense(1))"
   ]
  },
  {
   "cell_type": "markdown",
   "id": "f50220e6",
   "metadata": {},
   "source": [
    "## Explain keras.LSTM\n",
    "- 如果 return_sequences 是 False，則輸出為二維 : (batch_size, units)\n",
    "- 如果 return_sequences 是 True，則輸出為三維 : (batch_size, time_step, units)"
   ]
  },
  {
   "cell_type": "code",
   "execution_count": 25,
   "id": "405b5ec4",
   "metadata": {},
   "outputs": [
    {
     "name": "stdout",
     "output_type": "stream",
     "text": [
      "70/70 - 2s - loss: 0.0427 - 2s/epoch - 29ms/step\n"
     ]
    },
    {
     "data": {
      "text/plain": [
       "<keras.callbacks.History at 0x7f7b6ca34350>"
      ]
     },
     "execution_count": 25,
     "metadata": {},
     "output_type": "execute_result"
    }
   ],
   "source": [
    "# 確立目標及求解方法：以compile函數定義損失函數(loss)、優化函數(optimizer)及成效衡量指標(mertrics)。\n",
    "model.compile(optimizer='adam', loss='mean_squared_error')\n",
    "model.fit(x_train, y_train, batch_size=1, epochs=1, verbose=2)"
   ]
  },
  {
   "cell_type": "code",
   "execution_count": 26,
   "id": "b943b779",
   "metadata": {},
   "outputs": [],
   "source": [
    "testing_data_len=len(dataset)-training_data_len"
   ]
  },
  {
   "cell_type": "code",
   "execution_count": 27,
   "id": "59f3c93a",
   "metadata": {},
   "outputs": [
    {
     "data": {
      "text/plain": [
       "(100, 1)"
      ]
     },
     "execution_count": 27,
     "metadata": {},
     "output_type": "execute_result"
    }
   ],
   "source": [
    "dataset.shape"
   ]
  },
  {
   "cell_type": "code",
   "execution_count": 28,
   "id": "469c1c3a",
   "metadata": {},
   "outputs": [
    {
     "data": {
      "text/plain": [
       "(20, 1)"
      ]
     },
     "execution_count": 28,
     "metadata": {},
     "output_type": "execute_result"
    }
   ],
   "source": [
    "x_test=[]\n",
    "y_test=dataset[training_data_len:, :]\n",
    "y_test.shape"
   ]
  },
  {
   "cell_type": "code",
   "execution_count": 29,
   "id": "a04cfb44",
   "metadata": {},
   "outputs": [
    {
     "data": {
      "text/plain": [
       "(20, 10)"
      ]
     },
     "execution_count": 29,
     "metadata": {},
     "output_type": "execute_result"
    }
   ],
   "source": [
    "for i in range(training_data_len, len(scaled_data)):\n",
    "    x_test.append(scaled_data[i-10:i, 0])\n",
    "x_test=np.array(x_test)\n",
    "x_test.shape"
   ]
  },
  {
   "cell_type": "code",
   "execution_count": 30,
   "id": "1800afdc",
   "metadata": {},
   "outputs": [],
   "source": [
    "x_test=np.reshape(x_test, (x_test.shape[0], x_test.shape[1], 1))"
   ]
  },
  {
   "cell_type": "code",
   "execution_count": 31,
   "id": "d38cf1fd",
   "metadata": {},
   "outputs": [],
   "source": [
    "predictions=model.predict(x_test)\n",
    "predictions=scaler.inverse_transform(predictions)#unscaled"
   ]
  },
  {
   "cell_type": "code",
   "execution_count": 32,
   "id": "92bdea14",
   "metadata": {},
   "outputs": [
    {
     "data": {
      "text/plain": [
       "3.466912475585957"
      ]
     },
     "execution_count": 32,
     "metadata": {},
     "output_type": "execute_result"
    }
   ],
   "source": [
    "rmse=np.sqrt(np.mean(predictions-y_test)**2)\n",
    "rmse"
   ]
  },
  {
   "cell_type": "code",
   "execution_count": 33,
   "id": "ad367260",
   "metadata": {},
   "outputs": [
    {
     "data": {
      "text/html": [
       "<div>\n",
       "<style scoped>\n",
       "    .dataframe tbody tr th:only-of-type {\n",
       "        vertical-align: middle;\n",
       "    }\n",
       "\n",
       "    .dataframe tbody tr th {\n",
       "        vertical-align: top;\n",
       "    }\n",
       "\n",
       "    .dataframe thead th {\n",
       "        text-align: right;\n",
       "    }\n",
       "</style>\n",
       "<table border=\"1\" class=\"dataframe\">\n",
       "  <thead>\n",
       "    <tr style=\"text-align: right;\">\n",
       "      <th></th>\n",
       "      <th>Date</th>\n",
       "      <th>Close*</th>\n",
       "      <th>Predictions</th>\n",
       "    </tr>\n",
       "  </thead>\n",
       "  <tbody>\n",
       "    <tr>\n",
       "      <th>80</th>\n",
       "      <td>Dec 31, 2021</td>\n",
       "      <td>1056.78</td>\n",
       "      <td>1011.281311</td>\n",
       "    </tr>\n",
       "    <tr>\n",
       "      <th>81</th>\n",
       "      <td>Jan 03, 2022</td>\n",
       "      <td>1199.78</td>\n",
       "      <td>1019.462891</td>\n",
       "    </tr>\n",
       "    <tr>\n",
       "      <th>82</th>\n",
       "      <td>Jan 04, 2022</td>\n",
       "      <td>1149.59</td>\n",
       "      <td>1037.059204</td>\n",
       "    </tr>\n",
       "    <tr>\n",
       "      <th>83</th>\n",
       "      <td>Jan 05, 2022</td>\n",
       "      <td>1088.12</td>\n",
       "      <td>1053.206909</td>\n",
       "    </tr>\n",
       "    <tr>\n",
       "      <th>84</th>\n",
       "      <td>Jan 06, 2022</td>\n",
       "      <td>1064.70</td>\n",
       "      <td>1060.648804</td>\n",
       "    </tr>\n",
       "    <tr>\n",
       "      <th>85</th>\n",
       "      <td>Jan 07, 2022</td>\n",
       "      <td>1026.96</td>\n",
       "      <td>1060.524414</td>\n",
       "    </tr>\n",
       "    <tr>\n",
       "      <th>86</th>\n",
       "      <td>Jan 10, 2022</td>\n",
       "      <td>1058.12</td>\n",
       "      <td>1053.396240</td>\n",
       "    </tr>\n",
       "    <tr>\n",
       "      <th>87</th>\n",
       "      <td>Jan 11, 2022</td>\n",
       "      <td>1064.40</td>\n",
       "      <td>1046.672607</td>\n",
       "    </tr>\n",
       "    <tr>\n",
       "      <th>88</th>\n",
       "      <td>Jan 12, 2022</td>\n",
       "      <td>1106.22</td>\n",
       "      <td>1041.701660</td>\n",
       "    </tr>\n",
       "    <tr>\n",
       "      <th>89</th>\n",
       "      <td>Jan 13, 2022</td>\n",
       "      <td>1031.56</td>\n",
       "      <td>1041.658569</td>\n",
       "    </tr>\n",
       "    <tr>\n",
       "      <th>90</th>\n",
       "      <td>Jan 14, 2022</td>\n",
       "      <td>1049.61</td>\n",
       "      <td>1037.618408</td>\n",
       "    </tr>\n",
       "    <tr>\n",
       "      <th>91</th>\n",
       "      <td>Jan 18, 2022</td>\n",
       "      <td>1030.51</td>\n",
       "      <td>1033.941040</td>\n",
       "    </tr>\n",
       "    <tr>\n",
       "      <th>92</th>\n",
       "      <td>Jan 19, 2022</td>\n",
       "      <td>995.65</td>\n",
       "      <td>1026.179810</td>\n",
       "    </tr>\n",
       "    <tr>\n",
       "      <th>93</th>\n",
       "      <td>Jan 20, 2022</td>\n",
       "      <td>996.27</td>\n",
       "      <td>1016.957214</td>\n",
       "    </tr>\n",
       "    <tr>\n",
       "      <th>94</th>\n",
       "      <td>Jan 21, 2022</td>\n",
       "      <td>943.90</td>\n",
       "      <td>1008.676514</td>\n",
       "    </tr>\n",
       "    <tr>\n",
       "      <th>95</th>\n",
       "      <td>Jan 24, 2022</td>\n",
       "      <td>930.00</td>\n",
       "      <td>996.740967</td>\n",
       "    </tr>\n",
       "    <tr>\n",
       "      <th>96</th>\n",
       "      <td>Jan 25, 2022</td>\n",
       "      <td>918.40</td>\n",
       "      <td>983.570129</td>\n",
       "    </tr>\n",
       "    <tr>\n",
       "      <th>97</th>\n",
       "      <td>Jan 26, 2022</td>\n",
       "      <td>937.41</td>\n",
       "      <td>968.996887</td>\n",
       "    </tr>\n",
       "    <tr>\n",
       "      <th>98</th>\n",
       "      <td>Jan 27, 2022</td>\n",
       "      <td>829.10</td>\n",
       "      <td>957.157471</td>\n",
       "    </tr>\n",
       "    <tr>\n",
       "      <th>99</th>\n",
       "      <td>Jan 28, 2022</td>\n",
       "      <td>846.35</td>\n",
       "      <td>937.317200</td>\n",
       "    </tr>\n",
       "  </tbody>\n",
       "</table>\n",
       "</div>"
      ],
      "text/plain": [
       "            Date   Close*  Predictions\n",
       "80  Dec 31, 2021  1056.78  1011.281311\n",
       "81  Jan 03, 2022  1199.78  1019.462891\n",
       "82  Jan 04, 2022  1149.59  1037.059204\n",
       "83  Jan 05, 2022  1088.12  1053.206909\n",
       "84  Jan 06, 2022  1064.70  1060.648804\n",
       "85  Jan 07, 2022  1026.96  1060.524414\n",
       "86  Jan 10, 2022  1058.12  1053.396240\n",
       "87  Jan 11, 2022  1064.40  1046.672607\n",
       "88  Jan 12, 2022  1106.22  1041.701660\n",
       "89  Jan 13, 2022  1031.56  1041.658569\n",
       "90  Jan 14, 2022  1049.61  1037.618408\n",
       "91  Jan 18, 2022  1030.51  1033.941040\n",
       "92  Jan 19, 2022   995.65  1026.179810\n",
       "93  Jan 20, 2022   996.27  1016.957214\n",
       "94  Jan 21, 2022   943.90  1008.676514\n",
       "95  Jan 24, 2022   930.00   996.740967\n",
       "96  Jan 25, 2022   918.40   983.570129\n",
       "97  Jan 26, 2022   937.41   968.996887\n",
       "98  Jan 27, 2022   829.10   957.157471\n",
       "99  Jan 28, 2022   846.35   937.317200"
      ]
     },
     "execution_count": 33,
     "metadata": {},
     "output_type": "execute_result"
    }
   ],
   "source": [
    "train=df[['Date', 'Close*']][:training_data_len]\n",
    "valid=df[['Date', 'Close*']][training_data_len:]\n",
    "valid['Predictions']=predictions\n",
    "valid"
   ]
  },
  {
   "cell_type": "code",
   "execution_count": 36,
   "id": "5d10a844",
   "metadata": {},
   "outputs": [
    {
     "data": {
      "image/png": "[encoded data removed]",
      "text/plain": [
       "<Figure size 1152x1152 with 1 Axes>"
      ]
     },
     "metadata": {
      "needs_background": "light"
     },
     "output_type": "display_data"
    }
   ],
   "source": [
    "plt.figure(figsize=(16,16))\n",
    "plt.plot(train['Date'], train['Close*'], label='train', color='#8E8E8E')\n",
    "plt.plot(valid['Date'], valid['Close*'], label='Close', color='green')\n",
    "plt.plot(valid['Date'], valid['Predictions'], label='predict', color='red')\n",
    "plt.xticks(rotation=90)\n",
    "plt.legend(loc='upper left')\n",
    "plt.show()"
   ]
  },
  {
   "cell_type": "code",
   "execution_count": null,
   "id": "9452a348",
   "metadata": {},
   "outputs": [],
   "source": []
  }
 ],
 "metadata": {
  "kernelspec": {
   "display_name": "Python 3",
   "language": "python",
   "name": "python3"
  },
  "language_info": {
   "codemirror_mode": {
    "name": "ipython",
    "version": 3
   },
   "file_extension": ".py",
   "mimetype": "text/x-python",
   "name": "python",
   "nbconvert_exporter": "python",
   "pygments_lexer": "ipython3",
   "version": "3.7.9"
  }
 },
 "nbformat": 4,
 "nbformat_minor": 5
}
